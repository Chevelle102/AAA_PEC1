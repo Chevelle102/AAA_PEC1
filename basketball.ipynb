{
 "cells": [
  {
   "cell_type": "code",
   "execution_count": 1,
   "metadata": {},
   "outputs": [
    {
     "name": "stdout",
     "output_type": "stream",
     "text": [
      "Using matplotlib backend: Qt5Agg\n",
      "Populating the interactive namespace from numpy and matplotlib\n"
     ]
    }
   ],
   "source": [
    "%pylab\n",
    "%matplotlib inline\n",
    "import pandas as pd\n",
    "import numpy as np\n",
    "import seaborn as sns\n",
    "import matplotlib.pyplot as plt"
   ]
  },
  {
   "cell_type": "markdown",
   "metadata": {},
   "source": [
    "# Ejercicio 2: \n",
    "# En el conjunto de datos Baskeball.csv se encuentran las siguientes columnas para diferentes jugadores:\n",
    "\n",
    "### X1: altura en pies\n",
    "### X2: peso en libras\n",
    "### X3: porcentaje de tiros de campo exitosos\n",
    "### X4: porcentaje de tiros libres exitosos\n",
    "### X5: puntos promedio anotados por juego\n",
    "### Intentar predecir el porcentaje de tiros de campo exitosos para un jugador en base al resto de variables utilizando la regresión lineal y regresión LASSO con parámetros alpha de 0.01, 0.1 y 0.5.\n",
    "\n",
    "## Cuestiones:\n",
    "\n",
    "### ¿Cuál es el R2 en cada caso?\n",
    "### ¿Cuántas variables quedan disponibles al finalizar la regresión LASSO con cada valor de alpha?\n",
    "### Nota: En este caso no se ha de separar los datos en conjunto de entrenamiento y test. Se ha de trabajar siempre con el conjunto de datos completo."
   ]
  },
  {
   "cell_type": "code",
   "execution_count": 55,
   "metadata": {
    "collapsed": true
   },
   "outputs": [],
   "source": [
    "def forward_regression(x, y):\n",
    "    # Obtencion del conjunto de datos para validación\n",
    "    #x_train, x_test, y_train, y_test = train_test_split(x, y)\n",
    "\n",
    "    # Modelo para realizar los ajustes\n",
    "    model_lasso = Lasso(alpha=0.1)\n",
    "\n",
    "    # Variable para almecena los índices de la lista de atributos usados\n",
    "    feature_list = list(x.columns)\n",
    "    feature_order = []\n",
    "    feature_error = []\n",
    "    feature_names = []\n",
    "\n",
    "    # Iteración sobre todas las variables\n",
    "    for i in range(len(feature_list)):\n",
    "        idx_try = [val for val in range(len(feature_list)) if val not in feature_order]\n",
    "        iter_error = []\n",
    "\n",
    "        for i_try in idx_try:\n",
    "            useRow = feature_order[:]\n",
    "            useRow.append(i_try)\n",
    "\n",
    "            use = x[x.columns[useRow]]\n",
    "\n",
    "            model_lasso.fit(use, y)\n",
    "            rmsError = numpy.linalg.norm((y - model_lasso.predict(use)), 2)/sqrt(len(y))\n",
    "            iter_error.append(rmsError)\n",
    "\n",
    "        pos_best = numpy.argmin(iter_error)\n",
    "        \n",
    "        if len(feature_error) == 0 or (iter_error[pos_best] < feature_error[-1]):\n",
    "            feature_order.append(idx_try[pos_best])\n",
    "            feature_error.append(iter_error[pos_best])\n",
    "            feature_names.append(feature_list[idx_try[pos_best]])\n",
    "            print(\"Paso\", len(feature_error), \"variable\", feature_list[idx_try[pos_best]], \"con RMS\", iter_error[pos_best])\n",
    "        else:\n",
    "            return feature_names, feature_error, feature_names\n",
    "\n",
    "    return feature_names, feature_order, feature_error"
   ]
  },
  {
   "cell_type": "code",
   "execution_count": 2,
   "metadata": {
    "collapsed": true
   },
   "outputs": [],
   "source": [
    "data = pd.read_csv('Basketball.csv')"
   ]
  },
  {
   "cell_type": "code",
   "execution_count": 3,
   "metadata": {},
   "outputs": [
    {
     "data": {
      "text/html": [
       "<div>\n",
       "<style>\n",
       "    .dataframe thead tr:only-child th {\n",
       "        text-align: right;\n",
       "    }\n",
       "\n",
       "    .dataframe thead th {\n",
       "        text-align: left;\n",
       "    }\n",
       "\n",
       "    .dataframe tbody tr th {\n",
       "        vertical-align: top;\n",
       "    }\n",
       "</style>\n",
       "<table border=\"1\" class=\"dataframe\">\n",
       "  <thead>\n",
       "    <tr style=\"text-align: right;\">\n",
       "      <th></th>\n",
       "      <th>X1</th>\n",
       "      <th>X2</th>\n",
       "      <th>X3</th>\n",
       "      <th>X4</th>\n",
       "      <th>X5</th>\n",
       "    </tr>\n",
       "  </thead>\n",
       "  <tbody>\n",
       "    <tr>\n",
       "      <th>0</th>\n",
       "      <td>6.8</td>\n",
       "      <td>225</td>\n",
       "      <td>0.442</td>\n",
       "      <td>0.672</td>\n",
       "      <td>9.2</td>\n",
       "    </tr>\n",
       "    <tr>\n",
       "      <th>1</th>\n",
       "      <td>6.3</td>\n",
       "      <td>180</td>\n",
       "      <td>0.435</td>\n",
       "      <td>0.797</td>\n",
       "      <td>11.7</td>\n",
       "    </tr>\n",
       "    <tr>\n",
       "      <th>2</th>\n",
       "      <td>6.4</td>\n",
       "      <td>190</td>\n",
       "      <td>0.456</td>\n",
       "      <td>0.761</td>\n",
       "      <td>15.8</td>\n",
       "    </tr>\n",
       "    <tr>\n",
       "      <th>3</th>\n",
       "      <td>6.2</td>\n",
       "      <td>180</td>\n",
       "      <td>0.416</td>\n",
       "      <td>0.651</td>\n",
       "      <td>8.6</td>\n",
       "    </tr>\n",
       "    <tr>\n",
       "      <th>4</th>\n",
       "      <td>6.9</td>\n",
       "      <td>205</td>\n",
       "      <td>0.449</td>\n",
       "      <td>0.900</td>\n",
       "      <td>23.2</td>\n",
       "    </tr>\n",
       "  </tbody>\n",
       "</table>\n",
       "</div>"
      ],
      "text/plain": [
       "    X1   X2     X3     X4    X5\n",
       "0  6.8  225  0.442  0.672   9.2\n",
       "1  6.3  180  0.435  0.797  11.7\n",
       "2  6.4  190  0.456  0.761  15.8\n",
       "3  6.2  180  0.416  0.651   8.6\n",
       "4  6.9  205  0.449  0.900  23.2"
      ]
     },
     "execution_count": 3,
     "metadata": {},
     "output_type": "execute_result"
    }
   ],
   "source": [
    "data.head()"
   ]
  },
  {
   "cell_type": "code",
   "execution_count": 4,
   "metadata": {},
   "outputs": [
    {
     "data": {
      "text/html": [
       "<div>\n",
       "<style>\n",
       "    .dataframe thead tr:only-child th {\n",
       "        text-align: right;\n",
       "    }\n",
       "\n",
       "    .dataframe thead th {\n",
       "        text-align: left;\n",
       "    }\n",
       "\n",
       "    .dataframe tbody tr th {\n",
       "        vertical-align: top;\n",
       "    }\n",
       "</style>\n",
       "<table border=\"1\" class=\"dataframe\">\n",
       "  <thead>\n",
       "    <tr style=\"text-align: right;\">\n",
       "      <th></th>\n",
       "      <th>X1</th>\n",
       "      <th>X2</th>\n",
       "      <th>X3</th>\n",
       "      <th>X4</th>\n",
       "      <th>X5</th>\n",
       "    </tr>\n",
       "  </thead>\n",
       "  <tbody>\n",
       "    <tr>\n",
       "      <th>count</th>\n",
       "      <td>54.000000</td>\n",
       "      <td>54.000000</td>\n",
       "      <td>54.000000</td>\n",
       "      <td>54.000000</td>\n",
       "      <td>54.000000</td>\n",
       "    </tr>\n",
       "    <tr>\n",
       "      <th>mean</th>\n",
       "      <td>6.587037</td>\n",
       "      <td>209.907407</td>\n",
       "      <td>0.449111</td>\n",
       "      <td>0.741852</td>\n",
       "      <td>11.790741</td>\n",
       "    </tr>\n",
       "    <tr>\n",
       "      <th>std</th>\n",
       "      <td>0.458894</td>\n",
       "      <td>30.265036</td>\n",
       "      <td>0.056551</td>\n",
       "      <td>0.100146</td>\n",
       "      <td>5.899257</td>\n",
       "    </tr>\n",
       "    <tr>\n",
       "      <th>min</th>\n",
       "      <td>5.700000</td>\n",
       "      <td>105.000000</td>\n",
       "      <td>0.291000</td>\n",
       "      <td>0.244000</td>\n",
       "      <td>2.800000</td>\n",
       "    </tr>\n",
       "    <tr>\n",
       "      <th>25%</th>\n",
       "      <td>6.225000</td>\n",
       "      <td>185.000000</td>\n",
       "      <td>0.415250</td>\n",
       "      <td>0.713000</td>\n",
       "      <td>8.150000</td>\n",
       "    </tr>\n",
       "    <tr>\n",
       "      <th>50%</th>\n",
       "      <td>6.650000</td>\n",
       "      <td>212.500000</td>\n",
       "      <td>0.443500</td>\n",
       "      <td>0.753500</td>\n",
       "      <td>10.750000</td>\n",
       "    </tr>\n",
       "    <tr>\n",
       "      <th>75%</th>\n",
       "      <td>6.900000</td>\n",
       "      <td>235.000000</td>\n",
       "      <td>0.483500</td>\n",
       "      <td>0.795250</td>\n",
       "      <td>13.600000</td>\n",
       "    </tr>\n",
       "    <tr>\n",
       "      <th>max</th>\n",
       "      <td>7.600000</td>\n",
       "      <td>263.000000</td>\n",
       "      <td>0.599000</td>\n",
       "      <td>0.900000</td>\n",
       "      <td>27.400000</td>\n",
       "    </tr>\n",
       "  </tbody>\n",
       "</table>\n",
       "</div>"
      ],
      "text/plain": [
       "              X1          X2         X3         X4         X5\n",
       "count  54.000000   54.000000  54.000000  54.000000  54.000000\n",
       "mean    6.587037  209.907407   0.449111   0.741852  11.790741\n",
       "std     0.458894   30.265036   0.056551   0.100146   5.899257\n",
       "min     5.700000  105.000000   0.291000   0.244000   2.800000\n",
       "25%     6.225000  185.000000   0.415250   0.713000   8.150000\n",
       "50%     6.650000  212.500000   0.443500   0.753500  10.750000\n",
       "75%     6.900000  235.000000   0.483500   0.795250  13.600000\n",
       "max     7.600000  263.000000   0.599000   0.900000  27.400000"
      ]
     },
     "execution_count": 4,
     "metadata": {},
     "output_type": "execute_result"
    }
   ],
   "source": [
    "data.describe()"
   ]
  },
  {
   "cell_type": "code",
   "execution_count": 5,
   "metadata": {},
   "outputs": [
    {
     "data": {
      "text/plain": [
       "array([[<matplotlib.axes._subplots.AxesSubplot object at 0x0000009C103A5470>,\n",
       "        <matplotlib.axes._subplots.AxesSubplot object at 0x0000009C15301278>],\n",
       "       [<matplotlib.axes._subplots.AxesSubplot object at 0x0000009C1534EA90>,\n",
       "        <matplotlib.axes._subplots.AxesSubplot object at 0x0000009C165D77F0>],\n",
       "       [<matplotlib.axes._subplots.AxesSubplot object at 0x0000009C1663A0F0>,\n",
       "        <matplotlib.axes._subplots.AxesSubplot object at 0x0000009C1663A128>]], dtype=object)"
      ]
     },
     "execution_count": 5,
     "metadata": {},
     "output_type": "execute_result"
    },
    {
     "data": {
      "image/png": "[encoded data removed]",
      "text/plain": [
       "<matplotlib.figure.Figure at 0x9c1033ab70>"
      ]
     },
     "metadata": {},
     "output_type": "display_data"
    }
   ],
   "source": [
    "data.hist(figsize = (5, 5))"
   ]
  },
  {
   "cell_type": "code",
   "execution_count": 23,
   "metadata": {
    "collapsed": true
   },
   "outputs": [],
   "source": [
    "from sklearn.linear_model import LinearRegression\n",
    "from sklearn.model_selection import train_test_split\n",
    "\n",
    "# Separación de la variable objetivo y las explicativas\n",
    "map_columns = ['altura en pies','peso en libras','porcentaje de tiros libres exitosos','puntos promedio anotados por juego']\n",
    "target = 'X3'\n",
    "features = list(data.columns)\n",
    "features.remove('X3')"
   ]
  },
  {
   "cell_type": "code",
   "execution_count": 7,
   "metadata": {},
   "outputs": [
    {
     "data": {
      "image/png": "[encoded data removed]",
      "text/plain": [
       "<matplotlib.figure.Figure at 0x9c16bf5e10>"
      ]
     },
     "metadata": {},
     "output_type": "display_data"
    }
   ],
   "source": [
    "from pandas.plotting import scatter_matrix\n",
    "#scatter_matrix(data, figsize = (5, 5), diagonal = 'kde');\n",
    "\n",
    "cols = ['X1','X2','X3','X4','X5']\n",
    "cm = np.corrcoef(data[cols].values.T)\n",
    "sns.set(font_scale=1.5,style=\"ticks\", color_codes=True)\n",
    "hm = sns.heatmap(cm, cbar=True, annot=True, square=True, fmt='.2f', annot_kws={'size':12}, yticklabels=cols,xticklabels=cols)\n",
    "plt.show()"
   ]
  },
  {
   "cell_type": "code",
   "execution_count": 8,
   "metadata": {
    "collapsed": true
   },
   "outputs": [],
   "source": [
    "x = data[features] \n",
    "y = data[target]"
   ]
  },
  {
   "cell_type": "code",
   "execution_count": 9,
   "metadata": {},
   "outputs": [
    {
     "data": {
      "image/png": "[encoded data removed]",
      "text/plain": [
       "<matplotlib.figure.Figure at 0x9c10085908>"
      ]
     },
     "metadata": {},
     "output_type": "display_data"
    }
   ],
   "source": [
    "plt.plot(x, y, 'ro')\n",
    "plt.show()"
   ]
  },
  {
   "cell_type": "markdown",
   "metadata": {},
   "source": [
    "# Regresión Lineal"
   ]
  },
  {
   "cell_type": "code",
   "execution_count": 67,
   "metadata": {},
   "outputs": [
    {
     "name": "stdout",
     "output_type": "stream",
     "text": [
      "=============================\n",
      "¿Cuál es el R2?\n",
      "=============================\n",
      "R2:  0.411865449032\n",
      "=============================\n",
      "\n",
      "\n"
     ]
    }
   ],
   "source": [
    "model = LinearRegression()\n",
    "model.fit(x,y)\n",
    "#print(model.coef_)\n",
    "#print(model.intercept_)\n",
    "\n",
    "predict = model.predict(x)\n",
    "\n",
    "print (\"=============================\")\n",
    "print (\"¿Cuál es el R2?\")\n",
    "print (\"=============================\")\n",
    "print('R2: ', model.score(x, y))\n",
    "print (\"=============================\")\n",
    "print('')\n",
    "#print('====================')\n",
    "#print('Forward Regression:')\n",
    "#forward_regression(x, y)\n",
    "#print('====================')\n",
    "print('')"
   ]
  },
  {
   "cell_type": "markdown",
   "metadata": {},
   "source": [
    "# Regresión LASSO"
   ]
  },
  {
   "cell_type": "code",
   "execution_count": 73,
   "metadata": {},
   "outputs": [
    {
     "name": "stdout",
     "output_type": "stream",
     "text": [
      "====================\n",
      "Alpha: 0.01\n",
      "====================\n",
      "¿Cuál es el R2?\n",
      "R2 :  0.383574053121\n",
      "Variables Seleccionadas: 2\n",
      "['peso en libras', 'puntos promedio anotados por juego']\n",
      "[ 0.          0.0009589   0.          0.00300308]\n",
      "\n",
      "La medida de los R2 es: 0.029479018656\n",
      "Los R2 son: [-1.39587815  0.42645293  0.45353441  0.32482298  0.33846292]\n",
      "====================\n",
      "\n",
      "====================\n",
      "Forward Regression:\n",
      "Paso 1 variable X2 con RMS 0.0481047110862\n",
      "Paso 2 variable X5 con RMS 0.0472954100186\n",
      "====================\n",
      "\n",
      "====================\n",
      "Alpha: 0.1\n",
      "====================\n",
      "¿Cuál es el R2?\n",
      "R2 :  0.28736215903\n",
      "Variables Seleccionadas: 2\n",
      "['peso en libras', 'puntos promedio anotados por juego']\n",
      "[ 0.          0.00085372  0.          0.00036286]\n",
      "\n",
      "La medida de los R2 es: 0.137675174394\n",
      "Los R2 son: [-0.20189488  0.16586057  0.20897211  0.27001644  0.24542164]\n",
      "====================\n",
      "\n",
      "====================\n",
      "Forward Regression:\n",
      "Paso 1 variable X2 con RMS 0.0481047110862\n",
      "Paso 2 variable X5 con RMS 0.0472954100186\n",
      "====================\n",
      "\n",
      "====================\n",
      "Alpha: 0.5\n",
      "====================\n",
      "¿Cuál es el R2?\n",
      "R2 :  0.177714068234\n",
      "Variables Seleccionadas: 1\n",
      "['peso en libras']\n",
      "[ 0.          0.00040809  0.          0.        ]\n",
      "\n",
      "La medida de los R2 es: 0.100029719602\n",
      "Los R2 son: [ 0.01929423  0.14570664  0.1337239   0.0547426   0.14668122]\n",
      "====================\n",
      "\n",
      "====================\n",
      "Forward Regression:\n",
      "Paso 1 variable X2 con RMS 0.0481047110862\n",
      "Paso 2 variable X5 con RMS 0.0472954100186\n",
      "====================\n",
      "\n"
     ]
    }
   ],
   "source": [
    "from sklearn.model_selection import cross_val_score\n",
    "from sklearn.linear_model import Lasso\n",
    "learning_rate = [0.01, 0.1, 0.5]\n",
    "\n",
    "for lr in learning_rate:\n",
    "    var_select= []\n",
    "    model_lasso = Lasso(alpha=lr)\n",
    "    model_lasso.fit(x, y)\n",
    "\n",
    "    predict_test_lasso = model_lasso.predict(x)\n",
    "\n",
    "    print('====================')\n",
    "    print('Alpha:',lr)\n",
    "    print('====================')\n",
    "    print (\"¿Cuál es el R2?\")\n",
    "    print('R2 : ', model_lasso.score(x, y))\n",
    "    \n",
    "    index = list(0.!=model_lasso.coef_)\n",
    "    for col in range(0,len(map_columns)):        \n",
    "            if index[col]==True:                \n",
    "                var_select.append(map_columns[col])\n",
    "    print('Variables Seleccionadas:',len(var_select))\n",
    "    print(var_select)\n",
    "    print(model_lasso.coef_)\n",
    "    print('')\n",
    "    scores = cross_val_score(model_lasso, x, y, cv=5)    \n",
    "    print('La medida de los R2 es:', scores.mean())\n",
    "    print('Los R2 son:',scores)\n",
    "    print('====================')\n",
    "    print('')\n",
    "    print('====================')\n",
    "    print('Forward Regression:')\n",
    "    forward_regression(x, y)\n",
    "    print('====================')\n",
    "    print('')"
   ]
  },
  {
   "cell_type": "code",
   "execution_count": null,
   "metadata": {
    "collapsed": true
   },
   "outputs": [],
   "source": []
  },
  {
   "cell_type": "code",
   "execution_count": null,
   "metadata": {
    "collapsed": true
   },
   "outputs": [],
   "source": []
  },
  {
   "cell_type": "code",
   "execution_count": null,
   "metadata": {
    "collapsed": true
   },
   "outputs": [],
   "source": []
  },
  {
   "cell_type": "code",
   "execution_count": 14,
   "metadata": {},
   "outputs": [
    {
     "name": "stdout",
     "output_type": "stream",
     "text": [
      "43 11 54\n"
     ]
    }
   ],
   "source": [
    "#x_train, x_test, y_train, y_test = train_test_split(x, y, test_size=0.2, random_state=1) \n",
    "#print(len(x_train),len(x_test),len(x))\n",
    "\n",
    "#x_train, x_val, y_train, y_val = train_test_split(x_train, y_train, test_size=0.2, random_state=1)\n",
    "#print(len(x_train),len(x_test),len(x_val),len(x))\n"
   ]
  }
 ],
 "metadata": {
  "kernelspec": {
   "display_name": "Python 3",
   "language": "python",
   "name": "python3"
  },
  "language_info": {
   "codemirror_mode": {
    "name": "ipython",
    "version": 3
   },
   "file_extension": ".py",
   "mimetype": "text/x-python",
   "name": "python",
   "nbconvert_exporter": "python",
   "pygments_lexer": "ipython3",
   "version": "3.6.1"
  }
 },
 "nbformat": 4,
 "nbformat_minor": 2
}
