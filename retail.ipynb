{
 "cells": [
  {
   "cell_type": "markdown",
   "metadata": {},
   "source": [
    "# Ejercicio 1: En el archivo retail.csv hay 18.000 tickets de compra anonimizados.\n",
    "\n",
    "Cuestiones:\n",
    "\n",
    "1. Obtener los conjuntos de dos, tres y cuatro elementos con mayor soporte.\n",
    "\n",
    "2. Utilizando como soporte mínimo el obtenido en paso anterior para el conjunto de tres elementos, obtener todas las reglas de asociación con confianza de 0,8\n",
    "\n",
    "3. Utilizando como soporte mínimo el obtenido en el primer paso para el conjunto de cuatro elementos, obtener todas las reglas de asociación con confianza de 0,5"
   ]
  },
  {
   "cell_type": "code",
   "execution_count": 5,
   "metadata": {
    "collapsed": true
   },
   "outputs": [],
   "source": [
    "import csv\n",
    "\n",
    "data = []\n",
    "data2 =  []\n",
    "data3 =  []\n",
    "data4 =  []\n",
    "data_csv = csv.reader(open(\"retail.csv\", \"r\"))\n",
    "\n",
    "for row in data_csv:\n",
    "    #if (len(row)<=4):\n",
    "    data.append(row)\n",
    "    \n",
    "    if (len(row)==2):\n",
    "        data2.append(row)\n",
    "    elif (len(row)==3):\n",
    "        data3.append(row)\n",
    "    elif (len(row)==4):\n",
    "        data4.append(row)       "
   ]
  },
  {
   "cell_type": "markdown",
   "metadata": {},
   "source": [
    "# APRIORI"
   ]
  },
  {
   "cell_type": "code",
   "execution_count": 8,
   "metadata": {},
   "outputs": [
    {
     "data": {
      "text/plain": [
       "<module 'apriori' from 'D:\\\\cursos\\\\UAH\\\\AAA\\\\practica\\\\apriori.py'>"
      ]
     },
     "execution_count": 8,
     "metadata": {},
     "output_type": "execute_result"
    }
   ],
   "source": [
    "import apriori\n",
    "import sys\n",
    "sys.modules['apriori']"
   ]
  },
  {
   "cell_type": "markdown",
   "metadata": {},
   "source": [
    "## Para 3 elementos"
   ]
  },
  {
   "cell_type": "code",
   "execution_count": 9,
   "metadata": {},
   "outputs": [
    {
     "name": "stdout",
     "output_type": "stream",
     "text": [
      "{48}:  sup = 0.44\n",
      "{41}:  sup = 0.267\n",
      "{39}:  sup = 0.558\n",
      "{38}:  sup = 0.173\n",
      "{32}:  sup = 0.177\n",
      "{41, 48}:  sup = 0.151\n",
      "{48, 39}:  sup = 0.3\n",
      "{41, 39}:  sup = 0.2\n",
      "{41, 48, 39}:  sup = 0.123\n"
     ]
    }
   ],
   "source": [
    "F, soporte = apriori.apriori(data, min_support = 0.122, verbose = True)"
   ]
  },
  {
   "cell_type": "code",
   "execution_count": 122,
   "metadata": {},
   "outputs": [
    {
     "name": "stdout",
     "output_type": "stream",
     "text": [
      "{48, 41} ---> {39}:  conf = 0.812, sup = 0.123\n"
     ]
    }
   ],
   "source": [
    "H = apriori.generate_rules(F, soporte, min_confidence=0.80, verbose = True)"
   ]
  },
  {
   "cell_type": "markdown",
   "metadata": {},
   "source": [
    "## Para 4 elementos"
   ]
  },
  {
   "cell_type": "code",
   "execution_count": 134,
   "metadata": {},
   "outputs": [
    {
     "name": "stdout",
     "output_type": "stream",
     "text": [
      "{1327}:  sup = 0.038\n",
      "{310}:  sup = 0.034\n",
      "{237}:  sup = 0.034\n",
      "{170}:  sup = 0.04\n",
      "{89}:  sup = 0.038\n",
      "{65}:  sup = 0.041\n",
      "{48}:  sup = 0.44\n",
      "{41}:  sup = 0.267\n",
      "{39}:  sup = 0.558\n",
      "{38}:  sup = 0.173\n",
      "{32}:  sup = 0.177\n",
      "{39, 32}:  sup = 0.098\n",
      "{48, 32}:  sup = 0.092\n",
      "{38, 170}:  sup = 0.039\n",
      "{48, 41}:  sup = 0.151\n",
      "{41, 32}:  sup = 0.059\n",
      "{38, 48}:  sup = 0.08\n",
      "{39, 48}:  sup = 0.3\n",
      "{38, 39}:  sup = 0.113\n",
      "{38, 41}:  sup = 0.07\n",
      "{39, 41}:  sup = 0.2\n",
      "{41, 48, 32}:  sup = 0.036\n",
      "{41, 39, 32}:  sup = 0.043\n",
      "{39, 32, 48}:  sup = 0.059\n",
      "{39, 48, 41}:  sup = 0.123\n",
      "{38, 48, 41}:  sup = 0.04\n",
      "{38, 48, 39}:  sup = 0.061\n",
      "{38, 39, 41}:  sup = 0.054\n",
      "{38, 39, 41, 48}:  sup = 0.034\n"
     ]
    }
   ],
   "source": [
    "F4, soporte4 = apriori.apriori(data, min_support = 0.033, verbose = True)"
   ]
  },
  {
   "cell_type": "code",
   "execution_count": 135,
   "metadata": {},
   "outputs": [
    {
     "name": "stdout",
     "output_type": "stream",
     "text": [
      "{32} ---> {39}:  conf = 0.552, sup = 0.098\n",
      "{32} ---> {48}:  conf = 0.517, sup = 0.092\n",
      "{170} ---> {38}:  conf = 0.984, sup = 0.039\n",
      "{41} ---> {48}:  conf = 0.566, sup = 0.151\n",
      "{48} ---> {39}:  conf = 0.682, sup = 0.3\n",
      "{39} ---> {48}:  conf = 0.537, sup = 0.3\n",
      "{38} ---> {39}:  conf = 0.651, sup = 0.113\n",
      "{41} ---> {39}:  conf = 0.749, sup = 0.2\n",
      "{41, 32} ---> {48}:  conf = 0.611, sup = 0.036\n",
      "{41, 32} ---> {39}:  conf = 0.721, sup = 0.043\n",
      "{48, 32} ---> {39}:  conf = 0.645, sup = 0.059\n",
      "{39, 32} ---> {48}:  conf = 0.604, sup = 0.059\n",
      "{48, 41} ---> {39}:  conf = 0.812, sup = 0.123\n",
      "{39, 41} ---> {48}:  conf = 0.613, sup = 0.123\n",
      "{38, 41} ---> {48}:  conf = 0.571, sup = 0.04\n",
      "{38, 39} ---> {48}:  conf = 0.544, sup = 0.061\n",
      "{38, 48} ---> {39}:  conf = 0.765, sup = 0.061\n",
      "{38, 41} ---> {39}:  conf = 0.773, sup = 0.054\n",
      "{38, 48, 41} ---> {39}:  conf = 0.848, sup = 0.034\n",
      "{38, 39, 48} ---> {41}:  conf = 0.552, sup = 0.034\n",
      "{38, 39, 41} ---> {48}:  conf = 0.626, sup = 0.034\n"
     ]
    }
   ],
   "source": [
    "H = apriori.generate_rules(F4, soporte4, min_confidence=0.50, verbose = True)"
   ]
  }
 ],
 "metadata": {
  "kernelspec": {
   "display_name": "Python 3",
   "language": "python",
   "name": "python3"
  },
  "language_info": {
   "codemirror_mode": {
    "name": "ipython",
    "version": 3
   },
   "file_extension": ".py",
   "mimetype": "text/x-python",
   "name": "python",
   "nbconvert_exporter": "python",
   "pygments_lexer": "ipython3",
   "version": "3.6.1"
  }
 },
 "nbformat": 4,
 "nbformat_minor": 2
}
